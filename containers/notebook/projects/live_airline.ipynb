{
 "cells": [
  {
   "cell_type": "code",
   "execution_count": 2,
   "metadata": {},
   "outputs": [],
   "source": [
    "import requests\n",
    "import time\n",
    "import pandas as pd"
   ]
  },
  {
   "cell_type": "code",
   "execution_count": 36,
   "metadata": {},
   "outputs": [
    {
     "data": {
      "text/plain": [
       "1603181301.3158445"
      ]
     },
     "execution_count": 36,
     "metadata": {},
     "output_type": "execute_result"
    }
   ],
   "source": [
    "now = time.time() # 'UTC'\n",
    "now"
   ]
  },
  {
   "cell_type": "code",
   "execution_count": 37,
   "metadata": {},
   "outputs": [
    {
     "data": {
      "text/plain": [
       "Timestamp('2020-10-20 08:08:21.315845')"
      ]
     },
     "execution_count": 37,
     "metadata": {},
     "output_type": "execute_result"
    }
   ],
   "source": [
    "pd.Timestamp.fromtimestamp(now) # 'UTC' Coordinated Universal Time"
   ]
  },
  {
   "cell_type": "code",
   "execution_count": 38,
   "metadata": {},
   "outputs": [
    {
     "data": {
      "text/plain": [
       "Timestamp('2020-10-20 10:08:21.315845+0200', tz='Europe/Copenhagen')"
      ]
     },
     "execution_count": 38,
     "metadata": {},
     "output_type": "execute_result"
    }
   ],
   "source": [
    "#if using datetime.datetime.now().tz_localize(tz='Europe/Copenhagen')\n",
    "\n",
    "pd.Timestamp.fromtimestamp(now).tz_localize(tz='UTC').tz_convert(tz='Europe/Copenhagen') "
   ]
  },
  {
   "cell_type": "code",
   "execution_count": 4,
   "metadata": {},
   "outputs": [],
   "source": [
    "URI = \"https://data-live.flightradar24.com/zones/fcgi/feed.js\"\n",
    "params = dict(\n",
    "    bounds= '56.54,54.61,7.26,17.92',\n",
    "    faa= 1,\n",
    "    satellite= 1,\n",
    "    mlat= 1,\n",
    "    flarm= 1,\n",
    "    adsb= 1,\n",
    "    gnd= 1,\n",
    "    air= 1,\n",
    "    vehicles= 1,\n",
    "    estimated= 1,\n",
    "    maxage= 14400,\n",
    "    gliders= 1,\n",
    "    stats= 1,\n",
    ")"
   ]
  },
  {
   "cell_type": "code",
   "execution_count": 5,
   "metadata": {},
   "outputs": [],
   "source": [
    "session = requests.Session()"
   ]
  },
  {
   "cell_type": "code",
   "execution_count": 66,
   "metadata": {},
   "outputs": [],
   "source": [
    "session.headers.update({'User-Agent':'Pandas'})"
   ]
  },
  {
   "cell_type": "code",
   "execution_count": 123,
   "metadata": {},
   "outputs": [],
   "source": [
    "r = session.get(URI, params=params)"
   ]
  },
  {
   "cell_type": "code",
   "execution_count": 124,
   "metadata": {},
   "outputs": [],
   "source": [
    "data =r.json()"
   ]
  },
  {
   "cell_type": "code",
   "execution_count": 125,
   "metadata": {},
   "outputs": [],
   "source": [
    "columns =['guid', '']"
   ]
  },
  {
   "cell_type": "code",
   "execution_count": 126,
   "metadata": {},
   "outputs": [],
   "source": [
    "_ = [value.insert(0,key) for key, value in data.items() if isinstance(value, list)]"
   ]
  },
  {
   "cell_type": "code",
   "execution_count": 127,
   "metadata": {},
   "outputs": [],
   "source": [
    "results = [value for key, value in data.items() if isinstance(value, list)]"
   ]
  },
  {
   "cell_type": "code",
   "execution_count": 128,
   "metadata": {},
   "outputs": [],
   "source": [
    "columns = {\n",
    "    0: 'uuid',\n",
    "    1: 'icao_id',\n",
    "    2: 'latitude',\n",
    "    3: 'longitude',\n",
    "    4: 'track_degree',\n",
    "    5: 'calibrated_altitude',\n",
    "    6: 'ground_speed_kts',\n",
    "    7: 7,\n",
    "    8: 'receiver_code',\n",
    "    9: 'aircraft_type',\n",
    "    10: 'registration',\n",
    "    11: 'update_time_utc',\n",
    "    12: 'from',\n",
    "    13: 'to',\n",
    "    14: 'flight_number',\n",
    "    15: 15,\n",
    "    16: 16,\n",
    "    17: 'flight_tag',\n",
    "    18: 18,\n",
    "    19: 'airline',\n",
    "}\n",
    "\n",
    "    "
   ]
  },
  {
   "cell_type": "code",
   "execution_count": 129,
   "metadata": {},
   "outputs": [
    {
     "data": {
      "text/html": [
       "<div>\n",
       "<style scoped>\n",
       "    .dataframe tbody tr th:only-of-type {\n",
       "        vertical-align: middle;\n",
       "    }\n",
       "\n",
       "    .dataframe tbody tr th {\n",
       "        vertical-align: top;\n",
       "    }\n",
       "\n",
       "    .dataframe thead th {\n",
       "        text-align: right;\n",
       "    }\n",
       "</style>\n",
       "<table border=\"1\" class=\"dataframe\">\n",
       "  <thead>\n",
       "    <tr style=\"text-align: right;\">\n",
       "      <th></th>\n",
       "      <th>uuid</th>\n",
       "      <th>icao_id</th>\n",
       "      <th>latitude</th>\n",
       "      <th>longitude</th>\n",
       "      <th>track_degree</th>\n",
       "      <th>calibrated_altitude</th>\n",
       "      <th>ground_speed_kts</th>\n",
       "      <th>7</th>\n",
       "      <th>receiver_code</th>\n",
       "      <th>aircraft_type</th>\n",
       "      <th>registration</th>\n",
       "      <th>update_time_utc</th>\n",
       "      <th>from</th>\n",
       "      <th>to</th>\n",
       "      <th>flight_number</th>\n",
       "      <th>15</th>\n",
       "      <th>16</th>\n",
       "      <th>flight_tag</th>\n",
       "      <th>18</th>\n",
       "      <th>airline</th>\n",
       "    </tr>\n",
       "  </thead>\n",
       "  <tbody>\n",
       "    <tr>\n",
       "      <th>6</th>\n",
       "      <td>25d279e8</td>\n",
       "      <td>484CB7</td>\n",
       "      <td>55.134</td>\n",
       "      <td>11.399</td>\n",
       "      <td>236</td>\n",
       "      <td>29125</td>\n",
       "      <td>401</td>\n",
       "      <td>3533</td>\n",
       "      <td>F-ESDF1</td>\n",
       "      <td>B737</td>\n",
       "      <td>PH-BGQ</td>\n",
       "      <td>1603187507</td>\n",
       "      <td>CPH</td>\n",
       "      <td>AMS</td>\n",
       "      <td>KL1128</td>\n",
       "      <td>0</td>\n",
       "      <td>1792</td>\n",
       "      <td>KLM24T</td>\n",
       "      <td>0</td>\n",
       "      <td>KLM</td>\n",
       "    </tr>\n",
       "  </tbody>\n",
       "</table>\n",
       "</div>"
      ],
      "text/plain": [
       "       uuid icao_id  latitude  longitude  track_degree  calibrated_altitude  \\\n",
       "6  25d279e8  484CB7    55.134     11.399           236                29125   \n",
       "\n",
       "   ground_speed_kts     7 receiver_code aircraft_type registration  \\\n",
       "6               401  3533       F-ESDF1          B737       PH-BGQ   \n",
       "\n",
       "   update_time_utc from   to flight_number  15    16 flight_tag  18 airline  \n",
       "6       1603187507  CPH  AMS        KL1128   0  1792     KLM24T   0     KLM  "
      ]
     },
     "execution_count": 129,
     "metadata": {},
     "output_type": "execute_result"
    }
   ],
   "source": [
    "df =pd.DataFrame(results).rename(columns, axis=1)\n",
    "df[df['icao_id']=='484CB7']"
   ]
  },
  {
   "cell_type": "code",
   "execution_count": 130,
   "metadata": {},
   "outputs": [
    {
     "data": {
      "text/plain": [
       "1603187515.3445396"
      ]
     },
     "execution_count": 130,
     "metadata": {},
     "output_type": "execute_result"
    }
   ],
   "source": [
    "time.time()"
   ]
  },
  {
   "cell_type": "code",
   "execution_count": null,
   "metadata": {},
   "outputs": [],
   "source": []
  },
  {
   "cell_type": "code",
   "execution_count": null,
   "metadata": {},
   "outputs": [],
   "source": [
    "<div class=\"content-area F-EKMB3\">\n",
    "        <p class=\"adsb\">\n",
    "            Terrestrial based tracking with very high levels of GPS accuracy for most aircraft. Some older\n",
    "            aircraft use inertial reference units instead of GPS for positions, decreasing positional accuracy.\n",
    "            <a target=\"_blank\" href=\"/how-it-works\"><span>Read more<svg><use xlink:href=\"#icon-arrow\"></use></svg></span></a>\n",
    "        </p>\n",
    "        <p class=\"fsat tsat\">\n",
    "            Satellite based tracking with very high levels of GPS accuracy for most aircraft. Some older aircraft use\n",
    "            inertial reference units instead of GPS for positions, decreasing positional accuracy.\n",
    "            <a target=\"_blank\" href=\"/how-it-works\"><span>Read more<svg><use xlink:href=\"#icon-arrow\"></use></svg></span></a>\n",
    "        </p>\n",
    "        <p class=\"mlat\">\n",
    "            Terrestrial based tracking using the time difference of arrival to calculate position. Should\n",
    "            give high positional accuracy during most phases of flight, but position errors can sometimes occur. The\n",
    "            ground speed is calculated and can sometimes be incorrect, especially during turns and at low altitudes.\n",
    "            Vertical speed is also calculated, so errors can sometimes occur. Altitude data come from the transponder\n",
    "            and should be correct.\n",
    "            <a target=\"_blank\" href=\"/how-it-works\"><span>Read more<svg><use xlink:href=\"#icon-arrow\"></use></svg></span></a>\n",
    "        </p>\n",
    "        <p class=\"flarm\">\n",
    "            Terrestrial based tracking used in light aircraft, such as gliders. Variable levels of data\n",
    "            quality based on limited tracking capabilities for gliders.\n",
    "            <a target=\"_blank\" href=\"/how-it-works\"><span>Read more<svg><use xlink:href=\"#icon-arrow\"></use></svg></span></a>\n",
    "        </p>\n",
    "        <p class=\"faa\">\n",
    "            3rd party data covering North America and certain oceanic regions around North America,\n",
    "            aggregated from different data sources. Provided to Flightradar24 as is with variable quality based on\n",
    "            multiple factors.\n",
    "            <a target=\"_blank\" href=\"/how-it-works\"><span>Read more<svg><use xlink:href=\"#icon-arrow\"></use></svg></span></a>\n",
    "        </p>\n",
    "        <p class=\"est\">\n",
    "            An aircraft's position may be estimated for up to 240 minutes after coverage has been lost based\n",
    "            on the great circle path between the last received position and destination. Accuracy of estimated positions\n",
    "            will vary based on time since last received position and flight route.\n",
    "            <a target=\"_blank\" href=\"/how-it-works\"><span>Read more<svg><use xlink:href=\"#icon-arrow\"></use></svg></span></a>\n",
    "        </p>\n",
    "        <p class=\"inv\">\n",
    "            This aircraft is broadcasting an invalid transponder code due to malfunction or incorrect\n",
    "            programming. As the ICAO 24-bit address is incorrect, it's often impossible to identify the aircraft.\n",
    "            <a target=\"_blank\" href=\"/how-it-works\"><span>Read more<svg><use xlink:href=\"#icon-arrow\"></use></svg></span></a>\n",
    "        </p>\n",
    "        <ul>\n",
    "            <li>\n",
    "                <svg>\n",
    "                    <use xlink:href=\"#icon-radar\"></use>\n",
    "                </svg>\n",
    "                <div>\n",
    "                    <span>F-EKMB3</span>\n",
    "                    <p>Receiver code displayed is randomly chosen from all receivers currently seeing the aircraft.</p>\n",
    "                </div>\n",
    "            </li>\n",
    "        </ul>\n",
    "        <a target=\"_blank\" class=\"coverage\" href=\"/apply-for-receiver\">\n",
    "            <span>\n",
    "                Increase the coverage in your area <svg class=\"arrow\"><use xlink:href=\"#icon-fr24-arrow-3px\"></use></svg>\n",
    "            </span>\n",
    "        </a>\n",
    "    </div>"
   ]
  }
 ],
 "metadata": {
  "kernelspec": {
   "display_name": "Python 3",
   "language": "python",
   "name": "python3"
  },
  "language_info": {
   "codemirror_mode": {
    "name": "ipython",
    "version": 3
   },
   "file_extension": ".py",
   "mimetype": "text/x-python",
   "name": "python",
   "nbconvert_exporter": "python",
   "pygments_lexer": "ipython3",
   "version": "3.8.6"
  }
 },
 "nbformat": 4,
 "nbformat_minor": 4
}
