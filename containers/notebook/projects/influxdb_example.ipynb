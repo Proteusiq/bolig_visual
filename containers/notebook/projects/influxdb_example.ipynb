{
 "cells": [
  {
   "cell_type": "code",
   "execution_count": null,
   "metadata": {
    "jupyter": {
     "source_hidden": true
    }
   },
   "outputs": [],
   "source": [
    "<div class=\"content-area F-EKMB3\">\n",
    "        <p class=\"adsb\">\n",
    "            Terrestrial based tracking with very high levels of GPS accuracy for most aircraft. Some older\n",
    "            aircraft use inertial reference units instead of GPS for positions, decreasing positional accuracy.\n",
    "            <a target=\"_blank\" href=\"/how-it-works\"><span>Read more<svg><use xlink:href=\"#icon-arrow\"></use></svg></span></a>\n",
    "        </p>\n",
    "        <p class=\"fsat tsat\">\n",
    "            Satellite based tracking with very high levels of GPS accuracy for most aircraft. Some older aircraft use\n",
    "            inertial reference units instead of GPS for positions, decreasing positional accuracy.\n",
    "            <a target=\"_blank\" href=\"/how-it-works\"><span>Read more<svg><use xlink:href=\"#icon-arrow\"></use></svg></span></a>\n",
    "        </p>\n",
    "        <p class=\"mlat\">\n",
    "            Terrestrial based tracking using the time difference of arrival to calculate position. Should\n",
    "            give high positional accuracy during most phases of flight, but position errors can sometimes occur. The\n",
    "            ground speed is calculated and can sometimes be incorrect, especially during turns and at low altitudes.\n",
    "            Vertical speed is also calculated, so errors can sometimes occur. Altitude data come from the transponder\n",
    "            and should be correct.\n",
    "            <a target=\"_blank\" href=\"/how-it-works\"><span>Read more<svg><use xlink:href=\"#icon-arrow\"></use></svg></span></a>\n",
    "        </p>\n",
    "        <p class=\"flarm\">\n",
    "            Terrestrial based tracking used in light aircraft, such as gliders. Variable levels of data\n",
    "            quality based on limited tracking capabilities for gliders.\n",
    "            <a target=\"_blank\" href=\"/how-it-works\"><span>Read more<svg><use xlink:href=\"#icon-arrow\"></use></svg></span></a>\n",
    "        </p>\n",
    "        <p class=\"faa\">\n",
    "            3rd party data covering North America and certain oceanic regions around North America,\n",
    "            aggregated from different data sources. Provided to Flightradar24 as is with variable quality based on\n",
    "            multiple factors.\n",
    "            <a target=\"_blank\" href=\"/how-it-works\"><span>Read more<svg><use xlink:href=\"#icon-arrow\"></use></svg></span></a>\n",
    "        </p>\n",
    "        <p class=\"est\">\n",
    "            An aircraft's position may be estimated for up to 240 minutes after coverage has been lost based\n",
    "            on the great circle path between the last received position and destination. Accuracy of estimated positions\n",
    "            will vary based on time since last received position and flight route.\n",
    "            <a target=\"_blank\" href=\"/how-it-works\"><span>Read more<svg><use xlink:href=\"#icon-arrow\"></use></svg></span></a>\n",
    "        </p>\n",
    "        <p class=\"inv\">\n",
    "            This aircraft is broadcasting an invalid transponder code due to malfunction or incorrect\n",
    "            programming. As the ICAO 24-bit address is incorrect, it's often impossible to identify the aircraft.\n",
    "            <a target=\"_blank\" href=\"/how-it-works\"><span>Read more<svg><use xlink:href=\"#icon-arrow\"></use></svg></span></a>\n",
    "        </p>\n",
    "        <ul>\n",
    "            <li>\n",
    "                <svg>\n",
    "                    <use xlink:href=\"#icon-radar\"></use>\n",
    "                </svg>\n",
    "                <div>\n",
    "                    <span>F-EKMB3</span>\n",
    "                    <p>Receiver code displayed is randomly chosen from all receivers currently seeing the aircraft.</p>\n",
    "                </div>\n",
    "            </li>\n",
    "        </ul>\n",
    "        <a target=\"_blank\" class=\"coverage\" href=\"/apply-for-receiver\">\n",
    "            <span>\n",
    "                Increase the coverage in your area <svg class=\"arrow\"><use xlink:href=\"#icon-fr24-arrow-3px\"></use></svg>\n",
    "            </span>\n",
    "        </a>\n",
    "    </div>"
   ]
  },
  {
   "cell_type": "code",
   "execution_count": 13,
   "metadata": {
    "collapsed": true,
    "jupyter": {
     "outputs_hidden": true
    }
   },
   "outputs": [
    {
     "name": "stdout",
     "output_type": "stream",
     "text": [
      "Collecting influxdb\n",
      "  Downloading influxdb-5.3.0-py2.py3-none-any.whl (77 kB)\n",
      "\u001b[K     |████████████████████████████████| 77 kB 3.1 MB/s eta 0:00:011\n",
      "\u001b[?25hRequirement already satisfied: pytz in /usr/local/lib/python3.8/site-packages (from influxdb) (2020.1)\n",
      "Collecting msgpack==0.6.1\n",
      "  Downloading msgpack-0.6.1.tar.gz (118 kB)\n",
      "\u001b[K     |████████████████████████████████| 118 kB 8.1 MB/s eta 0:00:01\n",
      "\u001b[?25hRequirement already satisfied: python-dateutil>=2.6.0 in /usr/local/lib/python3.8/site-packages (from influxdb) (2.8.1)\n",
      "Requirement already satisfied: requests>=2.17.0 in /usr/local/lib/python3.8/site-packages (from influxdb) (2.24.0)\n",
      "Requirement already satisfied: six>=1.10.0 in /usr/local/lib/python3.8/site-packages (from influxdb) (1.15.0)\n",
      "Requirement already satisfied: urllib3!=1.25.0,!=1.25.1,<1.26,>=1.21.1 in /usr/local/lib/python3.8/site-packages (from requests>=2.17.0->influxdb) (1.25.10)\n",
      "Requirement already satisfied: chardet<4,>=3.0.2 in /usr/local/lib/python3.8/site-packages (from requests>=2.17.0->influxdb) (3.0.4)\n",
      "Requirement already satisfied: certifi>=2017.4.17 in /usr/local/lib/python3.8/site-packages (from requests>=2.17.0->influxdb) (2020.6.20)\n",
      "Requirement already satisfied: idna<3,>=2.5 in /usr/local/lib/python3.8/site-packages (from requests>=2.17.0->influxdb) (2.10)\n",
      "Building wheels for collected packages: msgpack\n",
      "  Building wheel for msgpack (setup.py) ... \u001b[?25ldone\n",
      "\u001b[?25h  Created wheel for msgpack: filename=msgpack-0.6.1-cp38-cp38-linux_x86_64.whl size=304809 sha256=4c9952589aa4dc52440901c63bb035f89817069cc7074bcd80c6586fa93cf036\n",
      "  Stored in directory: /root/.cache/pip/wheels/56/2e/45/9ae160fc31c10e4b799d0ebc32ba82b32f1b057e0ebf28ea82\n",
      "Successfully built msgpack\n",
      "Installing collected packages: msgpack, influxdb\n",
      "Successfully installed influxdb-5.3.0 msgpack-0.6.1\n"
     ]
    }
   ],
   "source": [
    "#!pip install influxdb"
   ]
  },
  {
   "cell_type": "code",
   "execution_count": 27,
   "metadata": {},
   "outputs": [],
   "source": [
    "import pandas as pd\n",
    "from influxdb import DataFrameClient"
   ]
  },
  {
   "cell_type": "code",
   "execution_count": 21,
   "metadata": {},
   "outputs": [],
   "source": [
    "user = 'danpra'\n",
    "password = 'influxdbpwd'\n",
    "host = 'influxdb'\n",
    "port = 8086\n",
    "dbname= 'example'\n",
    "protocol = 'line'\n",
    "\n",
    "client = DataFrameClient(host, port, user, password, dbname)"
   ]
  },
  {
   "cell_type": "code",
   "execution_count": 16,
   "metadata": {},
   "outputs": [
    {
     "name": "stdout",
     "output_type": "stream",
     "text": [
      "Create pandas DataFrame\n"
     ]
    }
   ],
   "source": [
    "print(\"Create pandas DataFrame\")\n",
    "df = pd.DataFrame(data=list(range(30)),\n",
    "                  index=pd.date_range(start='2014-11-16',\n",
    "                                      periods=30, freq='H'), columns=['0'])"
   ]
  },
  {
   "cell_type": "code",
   "execution_count": 17,
   "metadata": {},
   "outputs": [
    {
     "data": {
      "text/html": [
       "<div>\n",
       "<style scoped>\n",
       "    .dataframe tbody tr th:only-of-type {\n",
       "        vertical-align: middle;\n",
       "    }\n",
       "\n",
       "    .dataframe tbody tr th {\n",
       "        vertical-align: top;\n",
       "    }\n",
       "\n",
       "    .dataframe thead th {\n",
       "        text-align: right;\n",
       "    }\n",
       "</style>\n",
       "<table border=\"1\" class=\"dataframe\">\n",
       "  <thead>\n",
       "    <tr style=\"text-align: right;\">\n",
       "      <th></th>\n",
       "      <th>0</th>\n",
       "    </tr>\n",
       "  </thead>\n",
       "  <tbody>\n",
       "    <tr>\n",
       "      <th>2014-11-17 01:00:00</th>\n",
       "      <td>25</td>\n",
       "    </tr>\n",
       "    <tr>\n",
       "      <th>2014-11-17 02:00:00</th>\n",
       "      <td>26</td>\n",
       "    </tr>\n",
       "    <tr>\n",
       "      <th>2014-11-17 03:00:00</th>\n",
       "      <td>27</td>\n",
       "    </tr>\n",
       "    <tr>\n",
       "      <th>2014-11-17 04:00:00</th>\n",
       "      <td>28</td>\n",
       "    </tr>\n",
       "    <tr>\n",
       "      <th>2014-11-17 05:00:00</th>\n",
       "      <td>29</td>\n",
       "    </tr>\n",
       "  </tbody>\n",
       "</table>\n",
       "</div>"
      ],
      "text/plain": [
       "                      0\n",
       "2014-11-17 01:00:00  25\n",
       "2014-11-17 02:00:00  26\n",
       "2014-11-17 03:00:00  27\n",
       "2014-11-17 04:00:00  28\n",
       "2014-11-17 05:00:00  29"
      ]
     },
     "execution_count": 17,
     "metadata": {},
     "output_type": "execute_result"
    }
   ],
   "source": [
    "df.tail()"
   ]
  },
  {
   "cell_type": "code",
   "execution_count": 20,
   "metadata": {},
   "outputs": [
    {
     "name": "stdout",
     "output_type": "stream",
     "text": [
      "Create database: example\n"
     ]
    }
   ],
   "source": [
    "print(f\"Create database: {dbname}\")\n",
    "client.create_database(dbname)"
   ]
  },
  {
   "cell_type": "code",
   "execution_count": 22,
   "metadata": {},
   "outputs": [
    {
     "name": "stdout",
     "output_type": "stream",
     "text": [
      "Write DataFrame\n"
     ]
    },
    {
     "data": {
      "text/plain": [
       "True"
      ]
     },
     "execution_count": 22,
     "metadata": {},
     "output_type": "execute_result"
    }
   ],
   "source": [
    "print(\"Write DataFrame\")\n",
    "client.write_points(df, dbname, protocol=protocol)"
   ]
  },
  {
   "cell_type": "code",
   "execution_count": 23,
   "metadata": {},
   "outputs": [
    {
     "name": "stdout",
     "output_type": "stream",
     "text": [
      "Write DataFrame with Tags\n"
     ]
    },
    {
     "data": {
      "text/plain": [
       "True"
      ]
     },
     "execution_count": 23,
     "metadata": {},
     "output_type": "execute_result"
    }
   ],
   "source": [
    "print(\"Write DataFrame with Tags\")\n",
    "client.write_points(df, 'demo',\n",
    "                    {'k1': 'v1', 'k2': 'v2'}, protocol=protocol)"
   ]
  },
  {
   "cell_type": "code",
   "execution_count": 25,
   "metadata": {},
   "outputs": [
    {
     "name": "stdout",
     "output_type": "stream",
     "text": [
      "Read DataFrame\n"
     ]
    },
    {
     "data": {
      "text/plain": [
       "defaultdict(list,\n",
       "            {'example':                             0\n",
       "             2014-11-16 00:00:00+00:00   0\n",
       "             2014-11-16 01:00:00+00:00   1\n",
       "             2014-11-16 02:00:00+00:00   2\n",
       "             2014-11-16 03:00:00+00:00   3\n",
       "             2014-11-16 04:00:00+00:00   4\n",
       "             2014-11-16 05:00:00+00:00   5\n",
       "             2014-11-16 06:00:00+00:00   6\n",
       "             2014-11-16 07:00:00+00:00   7\n",
       "             2014-11-16 08:00:00+00:00   8\n",
       "             2014-11-16 09:00:00+00:00   9\n",
       "             2014-11-16 10:00:00+00:00  10\n",
       "             2014-11-16 11:00:00+00:00  11\n",
       "             2014-11-16 12:00:00+00:00  12\n",
       "             2014-11-16 13:00:00+00:00  13\n",
       "             2014-11-16 14:00:00+00:00  14\n",
       "             2014-11-16 15:00:00+00:00  15\n",
       "             2014-11-16 16:00:00+00:00  16\n",
       "             2014-11-16 17:00:00+00:00  17\n",
       "             2014-11-16 18:00:00+00:00  18\n",
       "             2014-11-16 19:00:00+00:00  19\n",
       "             2014-11-16 20:00:00+00:00  20\n",
       "             2014-11-16 21:00:00+00:00  21\n",
       "             2014-11-16 22:00:00+00:00  22\n",
       "             2014-11-16 23:00:00+00:00  23\n",
       "             2014-11-17 00:00:00+00:00  24\n",
       "             2014-11-17 01:00:00+00:00  25\n",
       "             2014-11-17 02:00:00+00:00  26\n",
       "             2014-11-17 03:00:00+00:00  27\n",
       "             2014-11-17 04:00:00+00:00  28\n",
       "             2014-11-17 05:00:00+00:00  29})"
      ]
     },
     "execution_count": 25,
     "metadata": {},
     "output_type": "execute_result"
    }
   ],
   "source": [
    "print(\"Read DataFrame\")\n",
    "client.query(f\"select * from {dbname}\")"
   ]
  },
  {
   "cell_type": "code",
   "execution_count": 26,
   "metadata": {},
   "outputs": [
    {
     "name": "stdout",
     "output_type": "stream",
     "text": [
      "Delete database: example\n"
     ]
    }
   ],
   "source": [
    "print(f\"Delete database: {dbname}\")\n",
    "client.drop_database(dbname)"
   ]
  }
 ],
 "metadata": {
  "kernelspec": {
   "display_name": "Python 3",
   "language": "python",
   "name": "python3"
  },
  "language_info": {
   "codemirror_mode": {
    "name": "ipython",
    "version": 3
   },
   "file_extension": ".py",
   "mimetype": "text/x-python",
   "name": "python",
   "nbconvert_exporter": "python",
   "pygments_lexer": "ipython3",
   "version": "3.8.6"
  }
 },
 "nbformat": 4,
 "nbformat_minor": 4
}
