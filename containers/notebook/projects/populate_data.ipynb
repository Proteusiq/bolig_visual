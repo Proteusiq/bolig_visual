{
 "cells": [
  {
   "cell_type": "code",
   "execution_count": 1,
   "metadata": {},
   "outputs": [],
   "source": [
    "import os\n",
    "import sqlalchemy\n",
    "import pandas as pd \n",
    "\n",
    "from boliga import BoligaSold"
   ]
  },
  {
   "cell_type": "code",
   "execution_count": 12,
   "metadata": {},
   "outputs": [],
   "source": [
    "DB = 'boligDB'\n",
    "TABLE = 'boliga_sold'\n",
    "POSTGRES_URI = f\"{os.environ['POSTGRES_URI']}/{DB}\""
   ]
  },
  {
   "cell_type": "code",
   "execution_count": 7,
   "metadata": {},
   "outputs": [],
   "source": [
    "def send_bolig(bolig, table, **kwargs):\n",
    "\n",
    "    if bolig.empty:\n",
    "        return f'No DataFrame to send to {table}'\n",
    "\n",
    "    # postgres query roomSize will require \"roomSize\"\n",
    "    bolig.columns = bolig.columns.str.lower()\n",
    "\n",
    "    # columns with dict causes issues. stringfy thme\n",
    "    columns = bolig.select_dtypes('object').columns\n",
    "    bolig[columns] = bolig[columns].astype(str)\n",
    "\n",
    "    engine = sqlalchemy.create_engine(POSTGRES_URI)\n",
    "    bolig.to_sql(table, engine, if_exists='append')\n",
    "    print(f'There were {len(bolig)} estates send to {DB}.{table}')\n",
    "    engine.dispose()\n",
    "    \n",
    "    return bolig"
   ]
  },
  {
   "cell_type": "code",
   "execution_count": 4,
   "metadata": {
    "collapsed": true,
    "jupyter": {
     "outputs_hidden": true
    }
   },
   "outputs": [
    {
     "name": "stdout",
     "output_type": "stream",
     "text": [
      "\n",
      "[+] Using boliga.dk to demostrate advance web scraping ideas for sold estates\n",
      "\n",
      "[+] Start 5 threads for 200 pagesize per call: start at page 1 and at page 50 \n",
      "\n",
      "[+] Gathering data from page 1.     Found   200 estates   Time 17-10-2020 18:37:09\n",
      "[+] Gathering data from page 2.     Found   400 estates   Time 17-10-2020 18:37:09\n",
      "[+] Gathering data from page 13.     Found   600 estates   Time 17-10-2020 18:37:09\n",
      "[+] Gathering data from page 23.     Found   800 estates   Time 17-10-2020 18:37:09\n",
      "[+] Gathering data from page 33.     Found  1000 estates   Time 17-10-2020 18:37:09\n",
      "[+] Gathering data from page 43.     Found  1200 estates   Time 17-10-2020 18:37:09\n",
      "[+] Gathering data from page 14.     Found  1400 estates   Time 17-10-2020 18:37:09\n",
      "[+] Gathering data from page 34.     Found  1600 estates   Time 17-10-2020 18:37:09\n",
      "[+] Gathering data from page 24.     Found  1800 estates   Time 17-10-2020 18:37:09\n",
      "[+] Gathering data from page 3.     Found  2000 estates   Time 17-10-2020 18:37:09\n",
      "[+] Gathering data from page 44.     Found  2200 estates   Time 17-10-2020 18:37:09\n",
      "[+] Gathering data from page 45.     Found  2400 estates   Time 17-10-2020 18:37:10\n",
      "[+] Gathering data from page 15.     Found  2600 estates   Time 17-10-2020 18:37:10\n",
      "[+] Gathering data from page 4.     Found  2800 estates   Time 17-10-2020 18:37:10[+] Gathering data from page 25.     Found  3000 estates   Time 17-10-2020 18:37:10\n",
      "\n",
      "[+] Gathering data from page 35.     Found  3200 estates   Time 17-10-2020 18:37:10\n",
      "[+] Gathering data from page 36.     Found  3400 estates   Time 17-10-2020 18:37:10\n",
      "[+] Gathering data from page 46.     Found  3600 estates   Time 17-10-2020 18:37:10\n",
      "[+] Gathering data from page 5.     Found  3800 estates   Time 17-10-2020 18:37:10\n",
      "[+] Gathering data from page 16.     Found  4000 estates   Time 17-10-2020 18:37:10\n",
      "[+] Gathering data from page 26.     Found  4200 estates   Time 17-10-2020 18:37:10\n",
      "[+] Gathering data from page 27.     Found  4400 estates   Time 17-10-2020 18:37:11\n",
      "[+] Gathering data from page 6.     Found  4600 estates   Time 17-10-2020 18:37:11\n",
      "[+] Gathering data from page 37.     Found  4800 estates   Time 17-10-2020 18:37:11\n",
      "[+] Gathering data from page 17.     Found  5000 estates   Time 17-10-2020 18:37:11\n",
      "[+] Gathering data from page 47.     Found  5200 estates   Time 17-10-2020 18:37:11\n",
      "[+] Gathering data from page 28.     Found  5400 estates   Time 17-10-2020 18:37:11\n",
      "[+] Gathering data from page 18.     Found  5600 estates   Time 17-10-2020 18:37:11\n",
      "[+] Gathering data from page 38.     Found  5800 estates   Time 17-10-2020 18:37:11\n",
      "[+] Gathering data from page 7.     Found  6000 estates   Time 17-10-2020 18:37:11\n",
      "[+] Gathering data from page 48.     Found  6200 estates   Time 17-10-2020 18:37:11\n",
      "[+] Gathering data from page 29.     Found  6400 estates   Time 17-10-2020 18:37:11\n",
      "[+] Gathering data from page 19.     Found  6600 estates   Time 17-10-2020 18:37:11\n",
      "[+] Gathering data from page 39.     Found  6800 estates   Time 17-10-2020 18:37:11\n",
      "[+] Gathering data from page 8.     Found  7000 estates   Time 17-10-2020 18:37:11\n",
      "[+] Gathering data from page 49.     Found  7200 estates   Time 17-10-2020 18:37:11\n",
      "[+] Gathering data from page 9.     Found  7400 estates   Time 17-10-2020 18:37:12\n",
      "[+] Gathering data from page 30.     Found  7600 estates   Time 17-10-2020 18:37:12\n",
      "[+] Gathering data from page 20.     Found  7800 estates   Time 17-10-2020 18:37:12\n",
      "[+] Gathering data from page 40.     Found  8000 estates   Time 17-10-2020 18:37:12\n",
      "[+] Gathering data from page 50.     Found  8200 estates   Time 17-10-2020 18:37:12\n",
      "[+] Gathering data from page 10.     Found  8400 estates   Time 17-10-2020 18:37:12\n",
      "[+] Gathering data from page 41.     Found  8600 estates   Time 17-10-2020 18:37:12\n",
      "[+] Gathering data from page 31.     Found  8800 estates   Time 17-10-2020 18:37:12\n",
      "[+] Gathering data from page 21.     Found  9000 estates   Time 17-10-2020 18:37:12\n",
      "[+] Gathering data from page 51.     Found  9200 estates   Time 17-10-2020 18:37:12\n",
      "[+] Gathering data from page 32.     Found  9400 estates   Time 17-10-2020 18:37:13\n",
      "[+] Gathering data from page 11.     Found  9600 estates   Time 17-10-2020 18:37:13[+] Gathering data from page 42.     Found  9800 estates   Time 17-10-2020 18:37:13\n",
      "\n",
      "[+] Gathering data from page 22.     Found 10000 estates   Time 17-10-2020 18:37:13\n",
      "[+] Gathering data from page 52.     Found 10200 estates   Time 17-10-2020 18:37:13\n",
      "[+] Gathering data from page 12.     Found 10400 estates   Time 17-10-2020 18:37:13\n"
     ]
    },
    {
     "data": {
      "text/plain": [
       "BoligaSold(API='https://api.boliga.dk/api/v2/sold/search/results')"
      ]
     },
     "execution_count": 4,
     "metadata": {},
     "output_type": "execute_result"
    }
   ],
   "source": [
    "# Bolig Sold\n",
    "api_name = 'boliga.dk'\n",
    "print(f'\\n[+] Using {api_name} to demostrate advance web scraping ideas for sold estates\\n')\n",
    "\n",
    "# instantiate a class\n",
    "boliga_sold = BoligaSold(url='https://api.boliga.dk/api/v2/sold/search/results')\n",
    "\n",
    "# multipe pages per call\n",
    "workers = 5\n",
    "start_page = 1\n",
    "end_page = 50\n",
    "page_size = 200\n",
    "\n",
    "print(f'[+] Start {workers} threads for {page_size} pagesize per call: start at page {start_page} and at page {end_page} \\n')\n",
    "boliga_sold.get_pages(start_page=start_page, end_page=end_page,\n",
    "                        pagesize=page_size, workers=workers, verbose=False)"
   ]
  },
  {
   "cell_type": "code",
   "execution_count": 7,
   "metadata": {},
   "outputs": [
    {
     "name": "stdout",
     "output_type": "stream",
     "text": [
      "\n",
      "10400 estates found.\n",
      "Data types are?\n",
      "estateId              int64\n",
      "address              object\n",
      "zipCode               int64\n",
      "price                 int64\n",
      "soldDate             object\n",
      "propertyType          int64\n",
      "saleType             object\n",
      "sqmPrice            float64\n",
      "rooms               float64\n",
      "size                  int64\n",
      "buildYear             int64\n",
      "change              float64\n",
      "guid                 object\n",
      "latitude            float64\n",
      "longitude           float64\n",
      "municipalityCode      int64\n",
      "estateCode            int64\n",
      "city                 object\n",
      "groupKey             object\n",
      "canGetVR               bool\n",
      "dtype: object\n"
     ]
    }
   ],
   "source": [
    "bolig = boliga_sold.DataFrame\n",
    "print(f'\\n{bolig.shape[0]} estates found.\\nData types are?')\n",
    "print(bolig.dtypes)  # data types"
   ]
  },
  {
   "cell_type": "code",
   "execution_count": 10,
   "metadata": {},
   "outputs": [
    {
     "name": "stdout",
     "output_type": "stream",
     "text": [
      "There were 10400 estates send to boligDB.boliga_sold\n"
     ]
    }
   ],
   "source": [
    "_ = send_bolig(bolig, table=TABLE)"
   ]
  },
  {
   "cell_type": "code",
   "execution_count": 14,
   "metadata": {},
   "outputs": [
    {
     "data": {
      "text/plain": [
       "'boliga_sold'"
      ]
     },
     "execution_count": 14,
     "metadata": {},
     "output_type": "execute_result"
    }
   ],
   "source": [
    "TABLE"
   ]
  },
  {
   "cell_type": "code",
   "execution_count": 4,
   "metadata": {},
   "outputs": [],
   "source": [
    "engine = sqlalchemy.create_engine(POSTGRES_URI)\n",
    "example = pd.read_sql(f'SELECT estateId, price, soldDate FROM {TABLE}', engine)\n",
    "engine.dispose()"
   ]
  },
  {
   "cell_type": "code",
   "execution_count": 5,
   "metadata": {},
   "outputs": [
    {
     "data": {
      "text/html": [
       "<div>\n",
       "<style scoped>\n",
       "    .dataframe tbody tr th:only-of-type {\n",
       "        vertical-align: middle;\n",
       "    }\n",
       "\n",
       "    .dataframe tbody tr th {\n",
       "        vertical-align: top;\n",
       "    }\n",
       "\n",
       "    .dataframe thead th {\n",
       "        text-align: right;\n",
       "    }\n",
       "</style>\n",
       "<table border=\"1\" class=\"dataframe\">\n",
       "  <thead>\n",
       "    <tr style=\"text-align: right;\">\n",
       "      <th></th>\n",
       "      <th>estateid</th>\n",
       "      <th>price</th>\n",
       "      <th>solddate</th>\n",
       "    </tr>\n",
       "  </thead>\n",
       "  <tbody>\n",
       "    <tr>\n",
       "      <th>0</th>\n",
       "      <td>1698054</td>\n",
       "      <td>4380000</td>\n",
       "      <td>2020-10-07T22:00:00.000Z</td>\n",
       "    </tr>\n",
       "    <tr>\n",
       "      <th>1</th>\n",
       "      <td>1683616</td>\n",
       "      <td>2695000</td>\n",
       "      <td>2020-10-07T22:00:00.000Z</td>\n",
       "    </tr>\n",
       "    <tr>\n",
       "      <th>2</th>\n",
       "      <td>1694355</td>\n",
       "      <td>4480000</td>\n",
       "      <td>2020-10-07T22:00:00.000Z</td>\n",
       "    </tr>\n",
       "    <tr>\n",
       "      <th>3</th>\n",
       "      <td>0</td>\n",
       "      <td>1650000</td>\n",
       "      <td>2020-10-07T22:00:00.000Z</td>\n",
       "    </tr>\n",
       "    <tr>\n",
       "      <th>4</th>\n",
       "      <td>0</td>\n",
       "      <td>1600000</td>\n",
       "      <td>2020-10-07T22:00:00.000Z</td>\n",
       "    </tr>\n",
       "  </tbody>\n",
       "</table>\n",
       "</div>"
      ],
      "text/plain": [
       "   estateid    price                  solddate\n",
       "0   1698054  4380000  2020-10-07T22:00:00.000Z\n",
       "1   1683616  2695000  2020-10-07T22:00:00.000Z\n",
       "2   1694355  4480000  2020-10-07T22:00:00.000Z\n",
       "3         0  1650000  2020-10-07T22:00:00.000Z\n",
       "4         0  1600000  2020-10-07T22:00:00.000Z"
      ]
     },
     "execution_count": 5,
     "metadata": {},
     "output_type": "execute_result"
    }
   ],
   "source": [
    "example.head()"
   ]
  },
  {
   "cell_type": "code",
   "execution_count": 27,
   "metadata": {},
   "outputs": [],
   "source": [
    "# empty table\n",
    "with sqlalchemy.create_engine(\n",
    "    f'{POSTGRES_URI}',\n",
    "    isolation_level='AUTOCOMMIT'\n",
    ").connect() as connection:\n",
    "    connection.execute(f'TRUNCATE TABLE {TABLE}')"
   ]
  },
  {
   "cell_type": "code",
   "execution_count": null,
   "metadata": {},
   "outputs": [],
   "source": [
    "# Center in Grafana Geop\n",
    "# Copenhagen lat, log == 55.676098, 12.568337"
   ]
  }
 ],
 "metadata": {
  "kernelspec": {
   "display_name": "Python 3",
   "language": "python",
   "name": "python3"
  },
  "language_info": {
   "codemirror_mode": {
    "name": "ipython",
    "version": 3
   },
   "file_extension": ".py",
   "mimetype": "text/x-python",
   "name": "python",
   "nbconvert_exporter": "python",
   "pygments_lexer": "ipython3",
   "version": "3.8.6"
  }
 },
 "nbformat": 4,
 "nbformat_minor": 4
}
